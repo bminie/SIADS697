{
 "cells": [
  {
   "cell_type": "markdown",
   "id": "6876860d-3e0b-45ae-b2ee-8612b386bc91",
   "metadata": {},
   "source": [
    "# Using API's to Pull CMS data\n",
    "### By Brian Minie (bminie7@gmail.com)\n",
    "\n",
    "In this notebook, I'll demonstrate how to pull full datasets from the Centers for Medicare and Medicaid Services. More specifically, I'll be using Python Requests, JSON, and the REST API provide by CMS to pull down the data and write it to CSV files.\n",
    "\n",
    "In the future, we could envision these steps as part of a pipeline where the data is pulled down and refreshed on a regular basis."
   ]
  },
  {
   "cell_type": "code",
   "execution_count": 1,
   "id": "078d1a99-e694-4adc-85f7-e33531300ec8",
   "metadata": {},
   "outputs": [],
   "source": [
    "import csv\n",
    "import json\n",
    "import requests"
   ]
  },
  {
   "cell_type": "code",
   "execution_count": 2,
   "id": "abb53149-8b39-4a21-bdcc-895a4f8b5254",
   "metadata": {},
   "outputs": [],
   "source": [
    "dataset_url_dict = {\"Hospital_Readmissions_Reduction_Program.csv\": \"https://data.cms.gov/provider-data/api/1/datastore/query/9n3s-kdb3/0/download?format=csv\", \n",
    "                    \"Hospital_Acquired_Condition_Reduction_Program.csv\": \"https://data.cms.gov/provider-data/api/1/datastore/query/yq43-i98g/0/download?format=csv\", \n",
    "                    \"Unplanned_Hospital_Visits.csv\": \"https://data.cms.gov/provider-data/api/1/datastore/query/632h-zaca/0/download?format=csv\", \n",
    "                    \"Payment_Value_of_Care.csv\": \"https://data.cms.gov/provider-data/api/1/datastore/query/c7us-v4mf/0/download?format=csv\", \n",
    "                    \"Patient_Survey.csv\": \"https://data.cms.gov/provider-data/api/1/datastore/query/dgck-syfz/0/download?format=csv\", \n",
    "                    \"Hospital_Value_Based_Purchasing_Efficiency_Scores.csv\": \"https://data.cms.gov/provider-data/api/1/datastore/query/su9h-3pvj/0/download?format=csv\", \n",
    "                    \"Hospital_General_Info.csv\": \"https://data.cms.gov/provider-data/api/1/datastore/query/xubh-q36u/0/download?format=csv\"\n",
    "                   } "
   ]
  },
  {
   "cell_type": "code",
   "execution_count": 3,
   "id": "15809093-93b7-43d6-b7ed-b9f1352cbf32",
   "metadata": {},
   "outputs": [],
   "source": [
    "def download_data(filename, url, destination_dir=\"data\"):\n",
    "    print(\"Downloading data for\", filename)\n",
    "    counter = 0\n",
    "    response = requests.get(url)\n",
    "    lines = response.text.splitlines()\n",
    "    reader = csv.reader(lines)\n",
    "    with open(\"{}/{}\".format(destination_dir, filename), 'w', newline='') as csvfile: \n",
    "        csvwriter = csv.writer(csvfile) \n",
    "        for row in reader:\n",
    "            csvwriter.writerow(row) \n",
    "            counter+=1\n",
    "    print(\"Number of data rows retrieved:\", counter-1)"
   ]
  },
  {
   "cell_type": "code",
   "execution_count": 4,
   "id": "6a6cec72-68de-469d-b302-577b816af071",
   "metadata": {},
   "outputs": [
    {
     "name": "stdout",
     "output_type": "stream",
     "text": [
      "Downloading data for Hospital_Readmissions_Reduction_Program.csv\n",
      "Number of data rows retrieved: 19020\n",
      "Downloading data for Hospital_Acquired_Condition_Reduction_Program.csv\n",
      "Number of data rows retrieved: 3170\n",
      "Downloading data for Unplanned_Hospital_Visits.csv\n",
      "Number of data rows retrieved: 67872\n",
      "Downloading data for Payment_Value_of_Care.csv\n",
      "Number of data rows retrieved: 18704\n",
      "Downloading data for Patient_Survey.csv\n",
      "Number of data rows retrieved: 450864\n",
      "Downloading data for Hospital_Value_Based_Purchasing_Efficiency_Scores.csv\n",
      "Number of data rows retrieved: 2676\n",
      "Downloading data for Hospital_General_Info.csv\n",
      "Number of data rows retrieved: 5306\n"
     ]
    }
   ],
   "source": [
    "for key, value in dataset_url_dict.items():\n",
    "    download_data(key, value)"
   ]
  },
  {
   "cell_type": "code",
   "execution_count": null,
   "id": "a235a073-6b9c-4516-ba67-3092e5a602b2",
   "metadata": {},
   "outputs": [],
   "source": []
  }
 ],
 "metadata": {
  "kernelspec": {
   "display_name": "Python 3 (ipykernel)",
   "language": "python",
   "name": "python3"
  },
  "language_info": {
   "codemirror_mode": {
    "name": "ipython",
    "version": 3
   },
   "file_extension": ".py",
   "mimetype": "text/x-python",
   "name": "python",
   "nbconvert_exporter": "python",
   "pygments_lexer": "ipython3",
   "version": "3.7.10"
  }
 },
 "nbformat": 4,
 "nbformat_minor": 5
}
